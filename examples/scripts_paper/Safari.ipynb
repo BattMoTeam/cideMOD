{
 "cells": [
  {
   "cell_type": "code",
   "execution_count": null,
   "metadata": {},
   "outputs": [],
   "source": [
    "from cideMOD import (\n",
    "    CellParser,\n",
    "    ErrorCheck,\n",
    "    NDProblem,\n",
    "    Problem,\n",
    "    SolverCrashed,\n",
    "    Trigger,\n",
    "    init_results_folder,\n",
    "    ModelOptions,\n",
    "    CSI\n",
    ")\n",
    "import json "
   ]
  },
  {
   "cell_type": "code",
   "execution_count": null,
   "metadata": {},
   "outputs": [],
   "source": [
    "overwrite = True\n",
    "case = \"Safari_2009\"\n",
    "data_path = \"../../data/data_{}\".format(case)\n",
    "\n",
    "model_options = ModelOptions(mode='P2D', clean_on_exit=False, solve_SEI=True)\n",
    "\n",
    "save_path = init_results_folder(\n",
    "    case, overwrite=overwrite, copy_files=[f\"{data_path}/params_OCV.json\"]\n",
    ")\n",
    "\n",
    "cell_ocv = CellParser(\"params_OCV.json\", data_path=data_path)\n",
    "cell_cy = CellParser(\"params_cycling.json\", data_path=data_path)\n",
    "cell = json.load(open(data_path+\"/params_cycling.json\"))"
   ]
  },
  {
   "cell_type": "markdown",
   "metadata": {},
   "source": [
    "## Cycling"
   ]
  },
  {
   "cell_type": "code",
   "execution_count": null,
   "metadata": {},
   "outputs": [],
   "source": [
    "V_app = 3.9\n",
    "I_app = 0\n",
    "\n",
    "days = 484\n",
    "hours = days * 24\n",
    "minutes = hours * 60\n",
    "seconds = minutes * 60\n",
    "t_f = seconds"
   ]
  },
  {
   "cell_type": "code",
   "execution_count": null,
   "metadata": {},
   "outputs": [],
   "source": [
    "cycling = {\n",
    "            \"name\": \"Discharge Cycle\",\n",
    "            \"type\": \"Cycle\",\n",
    "            \"count\": 50,\n",
    "            \"steps\": [\n",
    "                {\n",
    "                    \"name\": \"Discharge\",\n",
    "                    \"type\": \"Current\", \n",
    "                    \"value\": \"-0.5*1.8\", \n",
    "                    \"unit\": \"A\", \n",
    "                    \"t_max\": {\"value\": 2.5, \"unit\": \"h\"},\n",
    "                    \"store_delay\": -1 ,\n",
    "                    \"min_step\": 2,\n",
    "                    \"events\": [\n",
    "                        {\n",
    "                            \"type\": \"Voltage\",\n",
    "                            \"value\": 2,  \n",
    "                            \"unit\": \"V\",  \n",
    "                            \"atol\": 1e-4, \n",
    "                            \"rtol\": 1e-3,\n",
    "                            \"goto\": \"Next\" \n",
    "                        }\n",
    "                    ]\n",
    "                },\n",
    "                {\n",
    "                    \"name\": \"Charge\",\n",
    "                    \"type\": \"Current\", \n",
    "                    \"value\": \"0.5*1.8\", \n",
    "                    \"unit\": \"A\", \n",
    "                    \"t_max\": {\"value\": 2.5, \"unit\": \"h\"},\n",
    "                    \"store_delay\": -1 ,\n",
    "                    \"min_step\": 5,\n",
    "                    \"events\": [\n",
    "                        {\n",
    "                            \"type\": \"Voltage\",\n",
    "                            \"value\": 4.2,  \n",
    "                            \"unit\": \"V\",  \n",
    "                            \"atol\": 1e-4, \n",
    "                            \"rtol\": 1e-3,\n",
    "                            \"goto\": \"CV\" \n",
    "                        }\n",
    "                    ]\n",
    "                }\n",
    "            ]}\n",
    "\n",
    "cycling_test_plan = {\n",
    "    'initial_state': {\n",
    "        'SOC': 1,\n",
    "        'exterior_temperature': 298\n",
    "    },\n",
    "    'steps': [cycling]\n",
    "}"
   ]
  },
  {
   "cell_type": "markdown",
   "metadata": {},
   "source": [
    "### Reaction limited case"
   ]
  },
  {
   "cell_type": "code",
   "execution_count": null,
   "metadata": {},
   "outputs": [],
   "source": [
    "cell[\"negativeElectrode\"][\"SEI\"][\"solventDiffusion\"].update({\"value\": 3.7e-19})\n",
    "cell[\"negativeElectrode\"][\"SEI\"][\"rateConstant\"].update({\"value\": 1.36e-12})\n",
    "bms_rl = CSI(cell, model_options, data_path, name=case, overwrite=overwrite)\n",
    "bms_rl.read_test_plan(cycling_test_plan)\n",
    "bms_rl.run_test_plan()\n",
    "\n",
    "problem_rl = bms_rl.problem"
   ]
  },
  {
   "cell_type": "markdown",
   "metadata": {},
   "source": [
    "### Diffusion limited case"
   ]
  },
  {
   "cell_type": "code",
   "execution_count": null,
   "metadata": {},
   "outputs": [],
   "source": [
    "cell[\"negativeElectrode\"][\"SEI\"][\"solventDiffusion\"].update({\"value\": 6.8e-21})\n",
    "cell[\"negativeElectrode\"][\"SEI\"][\"rateConstant\"].update({\"value\": 1.36e-7})\n",
    "bms_dl = CSI(cell, model_options, data_path, name=case, overwrite=overwrite)\n",
    "bms_dl.read_test_plan(cycling_test_plan)\n",
    "bms_dl.run_test_plan()\n",
    "\n",
    "problem_dl = bms_dl.problem"
   ]
  },
  {
   "cell_type": "markdown",
   "metadata": {},
   "source": [
    "# Compare results"
   ]
  },
  {
   "cell_type": "code",
   "execution_count": 1,
   "metadata": {},
   "outputs": [],
   "source": [
    "import matplotlib.pyplot as plt\n",
    "import numpy\n",
    "from scipy.interpolate import interp1d\n",
    "plt.rc('text', usetex=True)\n",
    "plt.rc('font', family='serif')\n",
    "\n",
    "safari_rl = numpy.genfromtxt(\"../../data/data_Safari_2009/SEI_resistance_rl.txt\", delimiter='\\t')\n",
    "safari_dl = numpy.genfromtxt(\"../../data/data_Safari_2009/SEI_resistance_dl.txt\", delimiter='\\t')"
   ]
  },
  {
   "cell_type": "markdown",
   "metadata": {},
   "source": [
    "### Capacity loss"
   ]
  },
  {
   "cell_type": "code",
   "execution_count": null,
   "metadata": {},
   "outputs": [],
   "source": [
    "fig, (ax1, ax2) = plt.subplots(1, 2, figsize=(10, 4), dpi=200)\n",
    "\n",
    "# Reaction limited\n",
    "cur = problem_rl.WH.global_var_arrays[2]\n",
    "index = numpy.append(numpy.where(numpy.diff(cur)<(-0.5*1.8))[0], len(cur)-1)\n",
    "nCycles = len(index)\n",
    "cycles_rl = numpy.arange(1,nCycles+1)\n",
    "thickness = problem_rl.WH.global_var_arrays[-1]\n",
    "av_thickness_rl = numpy.array(thickness)[index]\n",
    "\n",
    "ax1.plot(safari_rl[:,0], safari_rl[:,1], \"-\")\n",
    "ax1.plot(cycles_rl, av_thickness_rl/problem_rl.anode.SEI.kappa, \"-\")\n",
    "ax1.set_xlabel(\"Cycles\")\n",
    "ax1.set_ylabel(\"SEI resistance [$\\Omega m^2$]\")\n",
    "ax1.legend([\"Safari\", \"cideMOD\"], loc=\"best\")\n",
    "ax1.set_xlim([0, 50])\n",
    "ax1.title.set_text(\"Kinetic-limited\")\n",
    "\n",
    "cur = problem_dl.WH.global_var_arrays[2]\n",
    "index = numpy.append(numpy.where(numpy.diff(cur)<(-0.5*1.8))[0], len(cur)-1)\n",
    "nCycles = len(index)\n",
    "cycles_dl = numpy.arange(1,nCycles+1)\n",
    "thickness = problem_dl.WH.global_var_arrays[-1]\n",
    "av_thickness_dl = numpy.array(thickness)[index]\n",
    "\n",
    "ax2.plot(safari_dl[:,0], safari_dl[:,1], \"-\")\n",
    "ax2.plot(cycles_dl, av_thickness_dl/problem_dl.anode.SEI.kappa, \"-\")\n",
    "ax2.set_xlabel(\"Cycles\")\n",
    "ax2.set_ylabel(\"SEI resistance [$\\Omega m^2$]\")\n",
    "ax2.legend([\"Safari\", \"cideMOD\"], loc=\"best\")\n",
    "ax2.set_xlim([0, 50])\n",
    "ax2.title.set_text(\"Diffusion-limited\")\n",
    "\n",
    "plt.tight_layout()\n",
    "plt.show()"
   ]
  },
  {
   "cell_type": "markdown",
   "metadata": {},
   "source": [
    "### Diffusion limited case"
   ]
  },
  {
   "cell_type": "code",
   "execution_count": null,
   "metadata": {},
   "outputs": [],
   "source": [
    "fig, (ax1, ax2) = plt.subplots(1, 2, figsize=(10, 4), dpi=200)\n",
    "time = numpy.linspace(0, 50, 1000)\n",
    "\n",
    "real_dl = interp1d(safari_dl[:,0], safari_dl[:,1], bounds_error=False)\n",
    "cidemod_dl = interp1d(cycles_dl, av_thickness_dl/problem_dl.anode.SEI.kappa, bounds_error=False)\n",
    "real_rl = interp1d(safari_rl[:,0], safari_rl[:,1], bounds_error=False)\n",
    "cidemod_rl = interp1d(cycles_rl, av_thickness_rl/problem_rl.anode.SEI.kappa, bounds_error=False)\n",
    "\n",
    "# plot the RMSE over cycles\n",
    "ax2.plot(time, numpy.sqrt((real_rl(time)-cidemod_rl(time))**2/len(time)), \"-\")\n",
    "ax2.set_xlabel(\"Cycles\")\n",
    "ax2.set_ylabel(\"RMSE [-]\")\n",
    "\n",
    "# plot the RMSE over cycles\n",
    "ax2.plot(time, numpy.sqrt((real_dl(time)-cidemod_dl(time))**2/len(time)), \"-\")\n",
    "ax2.set_xlabel(\"Cycles\")\n",
    "ax2.set_ylabel(\"RMSE [-]\")\n",
    "\n",
    "plt.tight_layout()\n",
    "plt.show()"
   ]
  },
  {
   "cell_type": "markdown",
   "metadata": {},
   "source": [
    "## Compare cycling parameters and OCV parameters"
   ]
  },
  {
   "cell_type": "code",
   "execution_count": null,
   "metadata": {},
   "outputs": [],
   "source": [
    "safari_Q_cycling = pd.read_csv(\"../data/data_Safari_2009/capacity_loss_cycling.txt\", header=None, sep='\\t').to_numpy()\n",
    "safari_Q_OCV = pd.read_csv(\"../data/data_Safari_2009/capacity_loss_ocv.txt\", header=None, sep='\\t').to_numpy()"
   ]
  },
  {
   "cell_type": "markdown",
   "metadata": {},
   "source": [
    "#### OCV"
   ]
  },
  {
   "cell_type": "code",
   "execution_count": null,
   "metadata": {},
   "outputs": [],
   "source": [
    "problem_ocv = Problem(cell_ocv, model_options, save_path=save_path)\n",
    "problem_ocv.set_cell_state(0.99, 273 + 25, 273 + 25)\n",
    "problem_ocv.setup()\n",
    "\n",
    "v_min = Trigger(2.5, \"v\")\n",
    "status = problem_ocv.solve_ie(\n",
    "    min_step=5, max_step=30*24*3600, i_app=I_app, t_f=t_f, store_delay=-1, adaptive=True, triggers=[v_min]\n",
    ")\n",
    "err = ErrorCheck(problem_ocv, status)\n",
    "\n",
    "if isinstance(status, SolverCrashed):\n",
    "    raise status.args[0]"
   ]
  },
  {
   "cell_type": "markdown",
   "metadata": {},
   "source": [
    "#### Cycling"
   ]
  },
  {
   "cell_type": "code",
   "execution_count": null,
   "metadata": {},
   "outputs": [],
   "source": [
    "problem_cy = Problem(cell_cy, model_options, save_path=save_path)\n",
    "problem_cy.set_cell_state(0.99, 273 + 25, 273 + 25)\n",
    "problem_cy.setup()\n",
    "\n",
    "v_min = Trigger(2.5, \"v\")\n",
    "status = problem_cy.solve_ie(\n",
    "    min_step=5, max_step=30*24*3600, i_app=I_app, t_f=t_f, store_delay=-1, adaptive=True, triggers=[v_min]\n",
    ")\n",
    "err = ErrorCheck(problem_cy, status)\n",
    "\n",
    "if isinstance(status, SolverCrashed):\n",
    "    raise status.args[0]"
   ]
  },
  {
   "cell_type": "markdown",
   "metadata": {},
   "source": [
    "#### Plot"
   ]
  },
  {
   "cell_type": "code",
   "execution_count": null,
   "metadata": {},
   "outputs": [],
   "source": [
    "fig, (ax1, ax2) = plt.subplots(1, 2, figsize=(10, 4), dpi=250)\n",
    "\n",
    "# plot results over time\n",
    "ax1.plot(safari_Q_cycling[:,0], safari_Q_cycling[:,1]*100, \"-\")\n",
    "ax1.plot(numpy.array(problem_cy.WH.global_var_arrays[0])/3600/24, numpy.array(problem_cy.WH.global_var_arrays[-2])/problem_cy.cell.capacity*100, \"-\")\n",
    "ax1.set_xlabel(\"Time [days]\")\n",
    "ax1.set_ylabel(\"Capacity loss [%]\")\n",
    "ax1.legend([\"Safari\", \"cideMOD\"], loc=\"best\")\n",
    "ax1.set_xlim([0, max(safari_Q_cycling[:,0])])\n",
    "\n",
    "ax2.plot(safari_Q_OCV[:,0], safari_Q_OCV[:,1]*100, \"-\")\n",
    "ax2.plot(numpy.array(problem_ocv.WH.global_var_arrays[0])/3600/24, numpy.array(problem_ocv.WH.global_var_arrays[-2])/problem_ocv.cell.capacity*100, \"-\")\n",
    "ax2.set_xlabel(\"Time [days]\")\n",
    "ax2.set_ylabel(\"Capacity loss [%]\")\n",
    "ax2.legend([\"Safari\", \"cideMOD\"], loc=\"best\")\n",
    "ax2.set_xlim([0, max(safari_Q_OCV[:,0])])\n",
    "\n",
    "plt.tight_layout()\n",
    "plt.show()"
   ]
  }
 ],
 "metadata": {
  "kernelspec": {
   "display_name": "Python 3.8.10 64-bit",
   "language": "python",
   "name": "python3"
  },
  "language_info": {
   "codemirror_mode": {
    "name": "ipython",
    "version": 3
   },
   "file_extension": ".py",
   "mimetype": "text/x-python",
   "name": "python",
   "nbconvert_exporter": "python",
   "pygments_lexer": "ipython3",
   "version": "3.6.9"
  },
  "orig_nbformat": 4,
  "vscode": {
   "interpreter": {
    "hash": "31f2aee4e71d21fbe5cf8b01ff0e069b9275f58929596ceb00d14d90e3e16cd6"
   }
  }
 },
 "nbformat": 4,
 "nbformat_minor": 2
}
