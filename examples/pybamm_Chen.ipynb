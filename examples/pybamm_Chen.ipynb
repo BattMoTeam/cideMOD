{
 "cells": [
  {
   "cell_type": "code",
   "execution_count": 3,
   "metadata": {},
   "outputs": [
    {
     "name": "stderr",
     "output_type": "stream",
     "text": [
      "2022-07-06 11:20:51.528 - [INFO] base_battery_model.build_model(859): Start building Doyle-Fuller-Newman model\n",
      "2022-07-06 11:20:51.615 - [INFO] base_battery_model.build_model(879): Finish building Doyle-Fuller-Newman model\n",
      "2022-07-06 11:20:51.646 - [INFO] callbacks.on_experiment_start(166): Start running experiment\n",
      "2022-07-06 11:20:51.650 - [INFO] parameter_values.process_model(380): Start setting parameters for Doyle-Fuller-Newman model\n",
      "2022-07-06 11:20:51.769 - [INFO] parameter_values.process_model(483): Finish setting parameters for Doyle-Fuller-Newman model\n",
      "2022-07-06 11:20:51.770 - [INFO] discretisation.process_model(137): Start discretising Doyle-Fuller-Newman model\n",
      "2022-07-06 11:20:52.329 - [INFO] discretisation.process_model(254): Finish discretising Doyle-Fuller-Newman model\n",
      "2022-07-06 11:20:52.403 - [NOTICE] callbacks.on_cycle_start(174): Cycle 1/1 (72.276 ms elapsed) --------------------\n",
      "2022-07-06 11:20:52.405 - [NOTICE] callbacks.on_step_start(182): Cycle 1/1, step 1/1: Discharge at 1.0000C until 2.5V\n",
      "2022-07-06 11:20:52.413 - [INFO] base_solver.set_up(109): Start solver set-up\n",
      "2022-07-06 11:20:52.626 - [INFO] base_solver.set_up(730): Finish solver set-up\n",
      "2022-07-06 11:20:53.937 - [INFO] parameter_values.process_model(380): Start setting parameters for Electrode-specific SOH model\n",
      "2022-07-06 11:20:53.959 - [INFO] parameter_values.process_model(483): Finish setting parameters for Electrode-specific SOH model\n",
      "2022-07-06 11:20:53.960 - [INFO] discretisation.process_model(137): Start discretising Electrode-specific SOH model\n",
      "2022-07-06 11:20:53.986 - [INFO] discretisation.process_model(254): Finish discretising Electrode-specific SOH model\n",
      "2022-07-06 11:20:53.988 - [INFO] base_solver.solve(880): Start solving Electrode-specific SOH model with Algebraic solver (lm)\n",
      "2022-07-06 11:20:53.990 - [INFO] base_solver.set_up(109): Start solver set-up\n",
      "2022-07-06 11:20:54.019 - [INFO] base_solver.set_up(730): Finish solver set-up\n",
      "2022-07-06 11:20:54.027 - [INFO] base_solver.solve(1153): Finish solving Electrode-specific SOH model (success)\n",
      "2022-07-06 11:20:54.028 - [INFO] base_solver.solve(1154): Set-up time: 30.334 ms, Solve time: 5.920 ms (of which integration time: 4.701 ms), Total time: 36.254 ms\n",
      "2022-07-06 11:20:54.070 - [NOTICE] callbacks.on_experiment_end(222): Finish experiment simulation, took 72.276 ms\n"
     ]
    },
    {
     "data": {
      "image/png": "[encoded data removed]",
      "text/plain": [
       "<Figure size 432x288 with 1 Axes>"
      ]
     },
     "metadata": {
      "needs_background": "light"
     },
     "output_type": "display_data"
    },
    {
     "data": {
      "image/png": "[encoded data removed]",
      "text/plain": [
       "<Figure size 432x288 with 1 Axes>"
      ]
     },
     "metadata": {
      "needs_background": "light"
     },
     "output_type": "display_data"
    },
    {
     "data": {
      "application/vnd.jupyter.widget-view+json": {
       "model_id": "53288b77098f45e7a943b5b9620c0036",
       "version_major": 2,
       "version_minor": 0
      },
      "text/plain": [
       "interactive(children=(FloatSlider(value=0.0, description='t', max=3554.1796540539076, step=35.541796540539075)…"
      ]
     },
     "metadata": {},
     "output_type": "display_data"
    }
   ],
   "source": [
    "import pybamm\n",
    "import numpy as np\n",
    "import matplotlib.pyplot as plt\n",
    "\n",
    "pybamm.set_logging_level(\"INFO\")\n",
    "\n",
    "# load model\n",
    "model = pybamm.lithium_ion.DFN()\n",
    "param = pybamm.ParameterValues(\"Chen2020\")\n",
    "# solve model\n",
    "C_rates = [1]\n",
    "solutions = []\n",
    "\n",
    "for i, C_rate in enumerate(C_rates):\n",
    "    experiment = pybamm.Experiment(\n",
    "        [\"Discharge at {:.4f}C until 2.5V\".format(C_rate)],\n",
    "        period=\"{:.4f} seconds\".format(10 / C_rate),\n",
    "    )\n",
    "    sim = pybamm.Simulation(model, parameter_values=param, experiment=experiment, solver=pybamm.CasadiSolver(mode='safe'))\n",
    "    sim.solve()\n",
    "    solutions.append(sim.solution)\n",
    "\n",
    "pybamm.dynamic_plot(\n",
    "    solutions,\n",
    "    [\n",
    "        \"Terminal voltage [V]\",\n",
    "        \"Negative particle surface concentration\",\n",
    "        \"X-averaged negative particle surface concentration\",\n",
    "        \"Electrolyte concentration [mol.m-3]\",\n",
    "    ],\n",
    ")\n",
    "solutions[0].save_data(\n",
    "    \"Chen_1C.csv\", [\"Time [s]\", \"Current [A]\", \"Terminal voltage [V]\"], to_format=\"csv\"\n",
    ")"
   ]
  }
 ],
 "metadata": {
  "kernelspec": {
   "display_name": "Python 3.9.13 ('python3.9')",
   "language": "python",
   "name": "python3"
  },
  "language_info": {
   "codemirror_mode": {
    "name": "ipython",
    "version": 3
   },
   "file_extension": ".py",
   "mimetype": "text/x-python",
   "name": "python",
   "nbconvert_exporter": "python",
   "pygments_lexer": "ipython3",
   "version": "3.9.13"
  },
  "orig_nbformat": 4,
  "vscode": {
   "interpreter": {
    "hash": "7a7e126899c5af05e55f01bf084e6a795d89d0682dc76a168daf6209278f9fbe"
   }
  }
 },
 "nbformat": 4,
 "nbformat_minor": 2
}
